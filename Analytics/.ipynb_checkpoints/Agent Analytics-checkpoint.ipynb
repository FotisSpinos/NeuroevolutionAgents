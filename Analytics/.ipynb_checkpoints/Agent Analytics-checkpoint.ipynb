{
 "cells": [
  {
   "cell_type": "code",
   "execution_count": 44,
   "metadata": {},
   "outputs": [],
   "source": [
    "import os"
   ]
  },
  {
   "cell_type": "code",
   "execution_count": 45,
   "metadata": {},
   "outputs": [],
   "source": [
    "import sys"
   ]
  },
  {
   "cell_type": "code",
   "execution_count": 46,
   "metadata": {},
   "outputs": [],
   "source": [
    "from matplotlib import pyplot as plt"
   ]
  },
  {
   "cell_type": "code",
   "execution_count": 47,
   "metadata": {},
   "outputs": [],
   "source": [
    "FILENAME = 'agentAnalytics.txt'\n",
    "\n",
    "agent_analytics_file = ''\n",
    "\n",
    "try:\n",
    "    agent_analytics_file = open(FILENAME)\n",
    "except:\n",
    "    print('could not open file')\n",
    "    sys.exit()\n",
    "    \n",
    "print(agent_analytics_file.read())\n",
    "agent_analytics_file.seek(0)"
   ]
  },
  {
   "cell_type": "code",
   "execution_count": 48,
   "metadata": {},
   "outputs": [],
   "source": [
    "successfull_attacks = []\n",
    "\n",
    "line = agent_analytics_file.readline()\n",
    "\n",
    "while line:\n",
    "    if \":\" in line:\n",
    "            seperator_index = line.index(':')\n",
    "            desc = line[0 : seperator_index]\n",
    "            \n",
    "            contents = line[seperator_index + 2 : len(line) - 1]\n",
    "            \n",
    "            if desc == \"Avairage population\":\n",
    "                successfull_attacks.append(float(contents))\n",
    "                \n",
    "    line = agent_analytics_file.readline()\n",
    "    \n"
   ]
  },
  {
   "cell_type": "code",
   "execution_count": 49,
   "metadata": {},
   "outputs": [
    {
     "data": {
      "image/png": "[encoded data removed]",
      "text/plain": [
       "<Figure size 432x288 with 1 Axes>"
      ]
     },
     "metadata": {
      "needs_background": "light"
     },
     "output_type": "display_data"
    }
   ],
   "source": [
    "# display graph using matplotlib\n",
    "\n",
    "plt.plot(successfull_attacks)\n",
    "plt.title('successfull attacks graph')\n",
    "plt.ylabel('avairage attacks')\n",
    "plt.xlabel('generation number')\n",
    "plt.show()"
   ]
  }
 ],
 "metadata": {
  "kernelspec": {
   "display_name": "Python 3",
   "language": "python",
   "name": "python3"
  },
  "language_info": {
   "codemirror_mode": {
    "name": "ipython",
    "version": 3
   },
   "file_extension": ".py",
   "mimetype": "text/x-python",
   "name": "python",
   "nbconvert_exporter": "python",
   "pygments_lexer": "ipython3",
   "version": "3.7.4"
  }
 },
 "nbformat": 4,
 "nbformat_minor": 2
}
